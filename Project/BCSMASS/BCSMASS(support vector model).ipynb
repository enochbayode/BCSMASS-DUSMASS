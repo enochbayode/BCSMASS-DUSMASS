{
 "cells": [
  {
   "cell_type": "markdown",
   "id": "0c76a722",
   "metadata": {},
   "source": [
    "# Support vector model"
   ]
  },
  {
   "cell_type": "markdown",
   "id": "85c111ba",
   "metadata": {},
   "source": [
    "### import the libraries"
   ]
  },
  {
   "cell_type": "code",
   "execution_count": null,
   "id": "83bd7755",
   "metadata": {},
   "outputs": [],
   "source": [
    "import numpy as np\n",
    "import matplotlib.pyplot as plt\n",
    "import pandas as pd\n",
    "import seaborn as sns\n",
    "sns.set()"
   ]
  },
  {
   "cell_type": "markdown",
   "id": "aedcf344",
   "metadata": {},
   "source": [
    "### import the dataset"
   ]
  },
  {
   "cell_type": "code",
   "execution_count": null,
   "id": "16f74d7e",
   "metadata": {},
   "outputs": [],
   "source": [
    "file_path = r'C:\\Users\\Administrator\\Downloads\\Project\\BCSMASS\\BCSMASS 2010-2023.xlsx'\n",
    "dataset = pd.read_excel(file_path)"
   ]
  },
  {
   "cell_type": "markdown",
   "id": "9e4d8023",
   "metadata": {},
   "source": [
    "### selecting the input and output column"
   ]
  },
  {
   "cell_type": "code",
   "execution_count": null,
   "id": "2f780b93",
   "metadata": {},
   "outputs": [],
   "source": [
    "columns_to_impute = ['BCSMASS 2011', 'BCSMASS 2012', 'BCSMASS 2013', 'BCSMASS 2014',\n",
    "                 'BCSMASS 2015', 'BCSMASS 2016', 'BCSMASS 2017', 'BCSMASS 2018', 'BCSMASS 2019', 'BCSMASS 2020',\n",
    "                     ]\n",
    "\n",
    "output_cols = 'BCSMASS 2021'"
   ]
  },
  {
   "cell_type": "markdown",
   "id": "5d30c7e6",
   "metadata": {},
   "source": [
    "### Dependent and independent variables"
   ]
  },
  {
   "cell_type": "code",
   "execution_count": null,
   "id": "721eb584",
   "metadata": {},
   "outputs": [],
   "source": []
  },
  {
   "cell_type": "code",
   "execution_count": null,
   "id": "ce12bb78",
   "metadata": {},
   "outputs": [],
   "source": []
  }
 ],
 "metadata": {
  "kernelspec": {
   "display_name": "Python 3 (ipykernel)",
   "language": "python",
   "name": "python3"
  },
  "language_info": {
   "codemirror_mode": {
    "name": "ipython",
    "version": 3
   },
   "file_extension": ".py",
   "mimetype": "text/x-python",
   "name": "python",
   "nbconvert_exporter": "python",
   "pygments_lexer": "ipython3",
   "version": "3.8.18"
  }
 },
 "nbformat": 4,
 "nbformat_minor": 5
}
