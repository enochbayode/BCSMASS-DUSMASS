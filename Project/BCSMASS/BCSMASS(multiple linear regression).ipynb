{
 "cells": [
  {
   "cell_type": "markdown",
   "id": "1dbe57b5",
   "metadata": {},
   "source": [
    "# Importing the libraries"
   ]
  },
  {
   "cell_type": "code",
   "execution_count": 1,
   "id": "c6e28d72",
   "metadata": {},
   "outputs": [],
   "source": [
    "import numpy as np\n",
    "import matplotlib.pyplot as plt\n",
    "import pandas as pd\n",
    "import seaborn as sns\n",
    "sns.set()"
   ]
  },
  {
   "cell_type": "markdown",
   "id": "a078adc0",
   "metadata": {},
   "source": [
    "### Importing the dataset"
   ]
  },
  {
   "cell_type": "code",
   "execution_count": 2,
   "id": "98d49fbe",
   "metadata": {},
   "outputs": [],
   "source": [
    "#select file data\n",
    "file_path = r'C:\\Users\\Administrator\\Downloads\\Project\\BCSMASS\\BCSMASS 2010-2023.xlsx'\n",
    "dataset = pd.read_excel(file_path)"
   ]
  },
  {
   "cell_type": "markdown",
   "id": "4a91f263",
   "metadata": {},
   "source": [
    "## select the input columns"
   ]
  },
  {
   "cell_type": "code",
   "execution_count": 3,
   "id": "b1231c06",
   "metadata": {},
   "outputs": [],
   "source": [
    "#Handling missing values\n",
    "columns_to_impute = ['BCSMASS 2011', 'BCSMASS 2012', 'BCSMASS 2013', 'BCSMASS 2014',\n",
    "                 'BCSMASS 2015', 'BCSMASS 2016', 'BCSMASS 2017', 'BCSMASS 2018', 'BCSMASS 2019', 'BCSMASS 2020',\n",
    "                     ]\n",
    "\n",
    "output_cols = 'BCSMASS 2021'"
   ]
  },
  {
   "cell_type": "markdown",
   "id": "5671e6ff",
   "metadata": {},
   "source": [
    "### dependent and independent variables"
   ]
  },
  {
   "cell_type": "code",
   "execution_count": 4,
   "id": "25182344",
   "metadata": {},
   "outputs": [],
   "source": [
    "X = dataset[columns_to_impute].values\n",
    "y = dataset[output_cols].values"
   ]
  },
  {
   "cell_type": "markdown",
   "id": "cc853548",
   "metadata": {},
   "source": [
    "### normalizing x for y"
   ]
  },
  {
   "cell_type": "code",
   "execution_count": 5,
   "id": "f4a9cbea",
   "metadata": {},
   "outputs": [],
   "source": [
    "from sklearn.preprocessing import MinMaxScaler\n",
    "scaler_x = MinMaxScaler()\n",
    "scaler_y = MinMaxScaler()\n",
    "X_scaled = scaler_x.fit_transform(X)\n",
    "y_scaled = scaler_y.fit_transform(y.reshape(-1, 1)).flatten()"
   ]
  },
  {
   "cell_type": "markdown",
   "id": "784c1584",
   "metadata": {},
   "source": [
    "### training and test set"
   ]
  },
  {
   "cell_type": "code",
   "execution_count": 6,
   "id": "e8a59979",
   "metadata": {},
   "outputs": [],
   "source": [
    "from sklearn.model_selection import train_test_split\n",
    "X_train, X_test, y_train, y_test = train_test_split(X_scaled, y_scaled, test_size=0.2, random_state=0)"
   ]
  },
  {
   "cell_type": "markdown",
   "id": "c6cdd798",
   "metadata": {},
   "source": [
    "### using the linear regression model "
   ]
  },
  {
   "cell_type": "code",
   "execution_count": 7,
   "id": "746698cb",
   "metadata": {},
   "outputs": [
    {
     "data": {
      "text/html": [
       "<style>#sk-container-id-1 {color: black;}#sk-container-id-1 pre{padding: 0;}#sk-container-id-1 div.sk-toggleable {background-color: white;}#sk-container-id-1 label.sk-toggleable__label {cursor: pointer;display: block;width: 100%;margin-bottom: 0;padding: 0.3em;box-sizing: border-box;text-align: center;}#sk-container-id-1 label.sk-toggleable__label-arrow:before {content: \"▸\";float: left;margin-right: 0.25em;color: #696969;}#sk-container-id-1 label.sk-toggleable__label-arrow:hover:before {color: black;}#sk-container-id-1 div.sk-estimator:hover label.sk-toggleable__label-arrow:before {color: black;}#sk-container-id-1 div.sk-toggleable__content {max-height: 0;max-width: 0;overflow: hidden;text-align: left;background-color: #f0f8ff;}#sk-container-id-1 div.sk-toggleable__content pre {margin: 0.2em;color: black;border-radius: 0.25em;background-color: #f0f8ff;}#sk-container-id-1 input.sk-toggleable__control:checked~div.sk-toggleable__content {max-height: 200px;max-width: 100%;overflow: auto;}#sk-container-id-1 input.sk-toggleable__control:checked~label.sk-toggleable__label-arrow:before {content: \"▾\";}#sk-container-id-1 div.sk-estimator input.sk-toggleable__control:checked~label.sk-toggleable__label {background-color: #d4ebff;}#sk-container-id-1 div.sk-label input.sk-toggleable__control:checked~label.sk-toggleable__label {background-color: #d4ebff;}#sk-container-id-1 input.sk-hidden--visually {border: 0;clip: rect(1px 1px 1px 1px);clip: rect(1px, 1px, 1px, 1px);height: 1px;margin: -1px;overflow: hidden;padding: 0;position: absolute;width: 1px;}#sk-container-id-1 div.sk-estimator {font-family: monospace;background-color: #f0f8ff;border: 1px dotted black;border-radius: 0.25em;box-sizing: border-box;margin-bottom: 0.5em;}#sk-container-id-1 div.sk-estimator:hover {background-color: #d4ebff;}#sk-container-id-1 div.sk-parallel-item::after {content: \"\";width: 100%;border-bottom: 1px solid gray;flex-grow: 1;}#sk-container-id-1 div.sk-label:hover label.sk-toggleable__label {background-color: #d4ebff;}#sk-container-id-1 div.sk-serial::before {content: \"\";position: absolute;border-left: 1px solid gray;box-sizing: border-box;top: 0;bottom: 0;left: 50%;z-index: 0;}#sk-container-id-1 div.sk-serial {display: flex;flex-direction: column;align-items: center;background-color: white;padding-right: 0.2em;padding-left: 0.2em;position: relative;}#sk-container-id-1 div.sk-item {position: relative;z-index: 1;}#sk-container-id-1 div.sk-parallel {display: flex;align-items: stretch;justify-content: center;background-color: white;position: relative;}#sk-container-id-1 div.sk-item::before, #sk-container-id-1 div.sk-parallel-item::before {content: \"\";position: absolute;border-left: 1px solid gray;box-sizing: border-box;top: 0;bottom: 0;left: 50%;z-index: -1;}#sk-container-id-1 div.sk-parallel-item {display: flex;flex-direction: column;z-index: 1;position: relative;background-color: white;}#sk-container-id-1 div.sk-parallel-item:first-child::after {align-self: flex-end;width: 50%;}#sk-container-id-1 div.sk-parallel-item:last-child::after {align-self: flex-start;width: 50%;}#sk-container-id-1 div.sk-parallel-item:only-child::after {width: 0;}#sk-container-id-1 div.sk-dashed-wrapped {border: 1px dashed gray;margin: 0 0.4em 0.5em 0.4em;box-sizing: border-box;padding-bottom: 0.4em;background-color: white;}#sk-container-id-1 div.sk-label label {font-family: monospace;font-weight: bold;display: inline-block;line-height: 1.2em;}#sk-container-id-1 div.sk-label-container {text-align: center;}#sk-container-id-1 div.sk-container {/* jupyter's `normalize.less` sets `[hidden] { display: none; }` but bootstrap.min.css set `[hidden] { display: none !important; }` so we also need the `!important` here to be able to override the default hidden behavior on the sphinx rendered scikit-learn.org. See: https://github.com/scikit-learn/scikit-learn/issues/21755 */display: inline-block !important;position: relative;}#sk-container-id-1 div.sk-text-repr-fallback {display: none;}</style><div id=\"sk-container-id-1\" class=\"sk-top-container\"><div class=\"sk-text-repr-fallback\"><pre>LinearRegression()</pre><b>In a Jupyter environment, please rerun this cell to show the HTML representation or trust the notebook. <br />On GitHub, the HTML representation is unable to render, please try loading this page with nbviewer.org.</b></div><div class=\"sk-container\" hidden><div class=\"sk-item\"><div class=\"sk-estimator sk-toggleable\"><input class=\"sk-toggleable__control sk-hidden--visually\" id=\"sk-estimator-id-1\" type=\"checkbox\" checked><label for=\"sk-estimator-id-1\" class=\"sk-toggleable__label sk-toggleable__label-arrow\">LinearRegression</label><div class=\"sk-toggleable__content\"><pre>LinearRegression()</pre></div></div></div></div></div>"
      ],
      "text/plain": [
       "LinearRegression()"
      ]
     },
     "execution_count": 7,
     "metadata": {},
     "output_type": "execute_result"
    }
   ],
   "source": [
    "from sklearn.linear_model import LinearRegression\n",
    "model = LinearRegression()\n",
    "model.fit(X, y)"
   ]
  },
  {
   "cell_type": "code",
   "execution_count": null,
   "id": "b4ea0321",
   "metadata": {},
   "outputs": [],
   "source": []
  },
  {
   "cell_type": "code",
   "execution_count": 8,
   "id": "e0f3ead3",
   "metadata": {},
   "outputs": [],
   "source": [
    "train_predictions = model.predict(X_train)\n",
    "test_predictions = model.predict(X_test)"
   ]
  },
  {
   "cell_type": "markdown",
   "id": "9cf50e28",
   "metadata": {},
   "source": [
    "### checking the model result for training set"
   ]
  },
  {
   "cell_type": "code",
   "execution_count": 9,
   "id": "bd3822a2",
   "metadata": {},
   "outputs": [],
   "source": [
    "from sklearn.metrics import r2_score, mean_squared_error, mean_absolute_error\n",
    "Train_R_squared = r2_score(y_train, train_predictions)\n",
    "Train_MSR = mean_squared_error(y_train, train_predictions)\n",
    "Train_MAE = mean_absolute_error(y_train, train_predictions)"
   ]
  },
  {
   "cell_type": "code",
   "execution_count": 10,
   "id": "a113eaef",
   "metadata": {},
   "outputs": [
    {
     "name": "stdout",
     "output_type": "stream",
     "text": [
      "Train_R-squared score -9.350486189592694\n",
      "Train_Mean squared error 0.09316470540541014\n",
      "Train_Mean absolute error 0.2986067565184785\n"
     ]
    }
   ],
   "source": [
    "print ('Train_R-squared score', Train_R_squared)\n",
    "print ('Train_Mean squared error', Train_MSR)\n",
    "print ('Train_Mean absolute error', Train_MAE)"
   ]
  },
  {
   "cell_type": "markdown",
   "id": "898a12fa",
   "metadata": {},
   "source": [
    "### checking the model result for test set"
   ]
  },
  {
   "cell_type": "code",
   "execution_count": 12,
   "id": "e113635a",
   "metadata": {},
   "outputs": [],
   "source": [
    "\n",
    "from sklearn.metrics import r2_score, mean_squared_error, mean_absolute_error\n",
    "Test_R_squared = r2_score(y_test, test_predictions)\n",
    "Test_MSR = mean_squared_error(y_test, test_predictions)\n",
    "Test_MAE = mean_absolute_error(y_test, test_predictions)"
   ]
  },
  {
   "cell_type": "code",
   "execution_count": 13,
   "id": "b298943d",
   "metadata": {},
   "outputs": [
    {
     "name": "stdout",
     "output_type": "stream",
     "text": [
      "Test_R-squared score -10.948667206510072\n",
      "Test_Mean squared error 0.09348792956954224\n",
      "Test_Mean absolute error 0.29994628330428885\n"
     ]
    }
   ],
   "source": [
    "print ('Test_R-squared score', Test_R_squared)\n",
    "print ('Test_Mean squared error', Test_MSR)\n",
    "print ('Test_Mean absolute error', Test_MAE)"
   ]
  },
  {
   "cell_type": "markdown",
   "id": "287fc868",
   "metadata": {},
   "source": [
    "### Predicting the Test set results"
   ]
  },
  {
   "cell_type": "code",
   "execution_count": 21,
   "id": "b6e8545a",
   "metadata": {},
   "outputs": [
    {
     "name": "stdout",
     "output_type": "stream",
     "text": [
      "The prediction result for DUSMASS using polynomial regression\n",
      "[2.97805914 3.09899501 3.19267887 ... 2.97494325 3.11160108 3.22902756]\n"
     ]
    }
   ],
   "source": [
    "\n",
    "y_pred = model.predict(X)\n",
    "print (\"The prediction result for DUSMASS using polynomial regression\")\n",
    "print (y_pred)"
   ]
  },
  {
   "cell_type": "raw",
   "id": "3b519b7d",
   "metadata": {},
   "source": [
    "If the R-squared score for the training set in a linear regression is negative, it typically indicates that the model is performing worse than a model that simply predicts the mean of the target variable. This suggests that the model is not capturing any meaningful relationship between the independent variables and the target variable, and may be overfitting the data or suffering from other issues such as multicollinearity or incorrect model specification. Overall, a negative R-squared score is a strong indication of poor model performance and should prompt further investigation and potential revisions to the model.\n",
    "\n",
    "The R-squared value, also known as the coefficient of determination, typically ranges from 0 to 1.\n",
    "-An R-squared value of 0 indicates that the model does not explain any of the variability in the target variable.\n",
    "-An R-squared value of 1 indicates that the model perfectly explains all the variability in the target variable.\n",
    "\n",
    "Hence we can conclude that the multiple linear regression does not perfectly explain the data "
   ]
  },
  {
   "cell_type": "code",
   "execution_count": null,
   "id": "21e23216",
   "metadata": {},
   "outputs": [],
   "source": []
  }
 ],
 "metadata": {
  "kernelspec": {
   "display_name": "Python 3 (ipykernel)",
   "language": "python",
   "name": "python3"
  },
  "language_info": {
   "codemirror_mode": {
    "name": "ipython",
    "version": 3
   },
   "file_extension": ".py",
   "mimetype": "text/x-python",
   "name": "python",
   "nbconvert_exporter": "python",
   "pygments_lexer": "ipython3",
   "version": "3.8.18"
  }
 },
 "nbformat": 4,
 "nbformat_minor": 5
}
