{
 "cells": [
  {
   "cell_type": "markdown",
   "id": "6f81baf4",
   "metadata": {},
   "source": [
    "# Multiple linear Regression"
   ]
  },
  {
   "cell_type": "markdown",
   "id": "124f53a2",
   "metadata": {},
   "source": [
    "## Importing the required libraries "
   ]
  },
  {
   "cell_type": "code",
   "execution_count": 1,
   "id": "11331e9c",
   "metadata": {},
   "outputs": [],
   "source": [
    "import numpy as np\n",
    "import matplotlib.pyplot as plt\n",
    "import pandas as pd\n",
    "import seaborn as sns\n",
    "sns.set()"
   ]
  },
  {
   "cell_type": "markdown",
   "id": "8fea06b6",
   "metadata": {},
   "source": [
    "## import the dataset"
   ]
  },
  {
   "cell_type": "code",
   "execution_count": 2,
   "id": "909420f6",
   "metadata": {},
   "outputs": [],
   "source": [
    "file_path = r'C:\\Users\\Administrator\\Downloads\\Project\\DUSMASS\\DUSMASS 2010 - 2023.xlsx'\n",
    "dataset = pd.read_excel(file_path)"
   ]
  },
  {
   "cell_type": "markdown",
   "id": "bbca9690",
   "metadata": {},
   "source": [
    "## The input column"
   ]
  },
  {
   "cell_type": "code",
   "execution_count": 3,
   "id": "1d349a0f",
   "metadata": {},
   "outputs": [],
   "source": [
    "columns_to_impute = ['DUSMASS 2010','DUSMASS 2011', 'DUSMASS 2012', 'DUSMASS 2013', 'DUSMASS 2014',\n",
    "                 'DUSMASS 2015', 'DUSMASS 2016', 'DUSMASS 2017', 'DUSMASS 2018', 'DUSMASS 2019', 'DUSMASS 2020']\n",
    "\n",
    "output_cols = 'DUSMASS 2021'"
   ]
  },
  {
   "cell_type": "markdown",
   "id": "ea186ee7",
   "metadata": {},
   "source": [
    "## picking the the input colmn with complete data "
   ]
  },
  {
   "cell_type": "code",
   "execution_count": 13,
   "id": "17e28132",
   "metadata": {},
   "outputs": [],
   "source": [
    "X = dataset[columns_to_impute].values\n",
    "y = dataset[output_cols].values"
   ]
  },
  {
   "cell_type": "markdown",
   "id": "10d27f07",
   "metadata": {},
   "source": [
    "## normalizing the dataset for X and y variable"
   ]
  },
  {
   "cell_type": "code",
   "execution_count": 14,
   "id": "b716a191",
   "metadata": {},
   "outputs": [],
   "source": [
    "from sklearn.preprocessing import MinMaxScaler\n",
    "scaler_x = MinMaxScaler()\n",
    "scaler_y = MinMaxScaler()\n",
    "X_scaled = scaler_x.fit_transform(X)\n",
    "y_scaled = scaler_y.fit_transform(y.reshape(-1, 1)).flatten()"
   ]
  },
  {
   "cell_type": "markdown",
   "id": "5915a5d2",
   "metadata": {},
   "source": [
    "## spliting into test set and training set"
   ]
  },
  {
   "cell_type": "code",
   "execution_count": 15,
   "id": "d0a292aa",
   "metadata": {},
   "outputs": [],
   "source": [
    "from sklearn.model_selection import train_test_split\n",
    "X_train, X_test, y_train, y_test = train_test_split(X_scaled, y_scaled, test_size=0.2, random_state=0)"
   ]
  },
  {
   "cell_type": "markdown",
   "id": "87a38110",
   "metadata": {},
   "source": [
    "## using the linear regression"
   ]
  },
  {
   "cell_type": "code",
   "execution_count": 16,
   "id": "b80fc2ba",
   "metadata": {},
   "outputs": [
    {
     "data": {
      "text/html": [
       "<style>#sk-container-id-2 {color: black;}#sk-container-id-2 pre{padding: 0;}#sk-container-id-2 div.sk-toggleable {background-color: white;}#sk-container-id-2 label.sk-toggleable__label {cursor: pointer;display: block;width: 100%;margin-bottom: 0;padding: 0.3em;box-sizing: border-box;text-align: center;}#sk-container-id-2 label.sk-toggleable__label-arrow:before {content: \"▸\";float: left;margin-right: 0.25em;color: #696969;}#sk-container-id-2 label.sk-toggleable__label-arrow:hover:before {color: black;}#sk-container-id-2 div.sk-estimator:hover label.sk-toggleable__label-arrow:before {color: black;}#sk-container-id-2 div.sk-toggleable__content {max-height: 0;max-width: 0;overflow: hidden;text-align: left;background-color: #f0f8ff;}#sk-container-id-2 div.sk-toggleable__content pre {margin: 0.2em;color: black;border-radius: 0.25em;background-color: #f0f8ff;}#sk-container-id-2 input.sk-toggleable__control:checked~div.sk-toggleable__content {max-height: 200px;max-width: 100%;overflow: auto;}#sk-container-id-2 input.sk-toggleable__control:checked~label.sk-toggleable__label-arrow:before {content: \"▾\";}#sk-container-id-2 div.sk-estimator input.sk-toggleable__control:checked~label.sk-toggleable__label {background-color: #d4ebff;}#sk-container-id-2 div.sk-label input.sk-toggleable__control:checked~label.sk-toggleable__label {background-color: #d4ebff;}#sk-container-id-2 input.sk-hidden--visually {border: 0;clip: rect(1px 1px 1px 1px);clip: rect(1px, 1px, 1px, 1px);height: 1px;margin: -1px;overflow: hidden;padding: 0;position: absolute;width: 1px;}#sk-container-id-2 div.sk-estimator {font-family: monospace;background-color: #f0f8ff;border: 1px dotted black;border-radius: 0.25em;box-sizing: border-box;margin-bottom: 0.5em;}#sk-container-id-2 div.sk-estimator:hover {background-color: #d4ebff;}#sk-container-id-2 div.sk-parallel-item::after {content: \"\";width: 100%;border-bottom: 1px solid gray;flex-grow: 1;}#sk-container-id-2 div.sk-label:hover label.sk-toggleable__label {background-color: #d4ebff;}#sk-container-id-2 div.sk-serial::before {content: \"\";position: absolute;border-left: 1px solid gray;box-sizing: border-box;top: 0;bottom: 0;left: 50%;z-index: 0;}#sk-container-id-2 div.sk-serial {display: flex;flex-direction: column;align-items: center;background-color: white;padding-right: 0.2em;padding-left: 0.2em;position: relative;}#sk-container-id-2 div.sk-item {position: relative;z-index: 1;}#sk-container-id-2 div.sk-parallel {display: flex;align-items: stretch;justify-content: center;background-color: white;position: relative;}#sk-container-id-2 div.sk-item::before, #sk-container-id-2 div.sk-parallel-item::before {content: \"\";position: absolute;border-left: 1px solid gray;box-sizing: border-box;top: 0;bottom: 0;left: 50%;z-index: -1;}#sk-container-id-2 div.sk-parallel-item {display: flex;flex-direction: column;z-index: 1;position: relative;background-color: white;}#sk-container-id-2 div.sk-parallel-item:first-child::after {align-self: flex-end;width: 50%;}#sk-container-id-2 div.sk-parallel-item:last-child::after {align-self: flex-start;width: 50%;}#sk-container-id-2 div.sk-parallel-item:only-child::after {width: 0;}#sk-container-id-2 div.sk-dashed-wrapped {border: 1px dashed gray;margin: 0 0.4em 0.5em 0.4em;box-sizing: border-box;padding-bottom: 0.4em;background-color: white;}#sk-container-id-2 div.sk-label label {font-family: monospace;font-weight: bold;display: inline-block;line-height: 1.2em;}#sk-container-id-2 div.sk-label-container {text-align: center;}#sk-container-id-2 div.sk-container {/* jupyter's `normalize.less` sets `[hidden] { display: none; }` but bootstrap.min.css set `[hidden] { display: none !important; }` so we also need the `!important` here to be able to override the default hidden behavior on the sphinx rendered scikit-learn.org. See: https://github.com/scikit-learn/scikit-learn/issues/21755 */display: inline-block !important;position: relative;}#sk-container-id-2 div.sk-text-repr-fallback {display: none;}</style><div id=\"sk-container-id-2\" class=\"sk-top-container\"><div class=\"sk-text-repr-fallback\"><pre>LinearRegression()</pre><b>In a Jupyter environment, please rerun this cell to show the HTML representation or trust the notebook. <br />On GitHub, the HTML representation is unable to render, please try loading this page with nbviewer.org.</b></div><div class=\"sk-container\" hidden><div class=\"sk-item\"><div class=\"sk-estimator sk-toggleable\"><input class=\"sk-toggleable__control sk-hidden--visually\" id=\"sk-estimator-id-2\" type=\"checkbox\" checked><label for=\"sk-estimator-id-2\" class=\"sk-toggleable__label sk-toggleable__label-arrow\">LinearRegression</label><div class=\"sk-toggleable__content\"><pre>LinearRegression()</pre></div></div></div></div></div>"
      ],
      "text/plain": [
       "LinearRegression()"
      ]
     },
     "execution_count": 16,
     "metadata": {},
     "output_type": "execute_result"
    }
   ],
   "source": [
    "from sklearn.linear_model import LinearRegression\n",
    "model = LinearRegression()\n",
    "model.fit(X, y)"
   ]
  },
  {
   "cell_type": "markdown",
   "id": "763b2dee",
   "metadata": {},
   "source": [
    "## model prediction "
   ]
  },
  {
   "cell_type": "code",
   "execution_count": 17,
   "id": "7bcc114b",
   "metadata": {},
   "outputs": [],
   "source": [
    "train_predictions = model.predict(X_train)\n",
    "test_predictions = model.predict(X_test)"
   ]
  },
  {
   "cell_type": "code",
   "execution_count": 18,
   "id": "42997f35",
   "metadata": {},
   "outputs": [],
   "source": [
    "from sklearn.metrics import r2_score, mean_squared_error, mean_absolute_error\n",
    "Train_R_squared = r2_score(y_train, train_predictions)\n",
    "Train_MSR = mean_squared_error(y_train, train_predictions)\n",
    "Train_MAE = mean_absolute_error(y_train, train_predictions)"
   ]
  },
  {
   "cell_type": "code",
   "execution_count": 19,
   "id": "0428203c",
   "metadata": {},
   "outputs": [
    {
     "name": "stdout",
     "output_type": "stream",
     "text": [
      "Train_R-squared score -1219.6840808388995\n",
      "Train_Mean squared error 28.758760284004907\n",
      "Train_Mean absolute error 5.361472813786375\n"
     ]
    }
   ],
   "source": [
    "print ('Train_R-squared score', Train_R_squared)\n",
    "print ('Train_Mean squared error', Train_MSR)\n",
    "print ('Train_Mean absolute error', Train_MAE)"
   ]
  },
  {
   "cell_type": "code",
   "execution_count": null,
   "id": "8d010123",
   "metadata": {},
   "outputs": [],
   "source": []
  },
  {
   "cell_type": "code",
   "execution_count": 16,
   "id": "f883ac3d",
   "metadata": {},
   "outputs": [],
   "source": [
    "from sklearn.metrics import r2_score, mean_squared_error, mean_absolute_error\n",
    "Test_R_squared = r2_score(y_test, test_predictions)\n",
    "Test_MSR = mean_squared_error(y_test, test_predictions)\n",
    "Test_MAE = mean_absolute_error(y_test, test_predictions)"
   ]
  },
  {
   "cell_type": "code",
   "execution_count": 17,
   "id": "11a17929",
   "metadata": {},
   "outputs": [
    {
     "name": "stdout",
     "output_type": "stream",
     "text": [
      "Test_R-squared score -1369.5984019791943\n",
      "Test_Mean squared error 28.805294007988408\n",
      "Test_Mean absolute error 5.365917177368734\n"
     ]
    }
   ],
   "source": [
    "print ('Test_R-squared score', Test_R_squared)\n",
    "print ('Test_Mean squared error', Test_MSR)\n",
    "print ('Test_Mean absolute error', Test_MAE)"
   ]
  },
  {
   "cell_type": "markdown",
   "id": "ada6aa25",
   "metadata": {},
   "source": [
    "## checking the result "
   ]
  },
  {
   "cell_type": "code",
   "execution_count": 18,
   "id": "92153f8d",
   "metadata": {},
   "outputs": [
    {
     "name": "stdout",
     "output_type": "stream",
     "text": [
      "The prediction result for DUSMASS using polynomial regression\n",
      "[ 76.62805352  82.63754869  84.56775149 ... 136.87252927 136.93644513\n",
      " 136.67007743]\n"
     ]
    }
   ],
   "source": [
    "y_pred = model.predict(X)\n",
    "print (\"The prediction result for DUSMASS using polynomial regression\")\n",
    "print (y_pred)"
   ]
  },
  {
   "cell_type": "raw",
   "id": "ac5b2f74",
   "metadata": {},
   "source": [
    "If the R-squared score for the training set in a linear regression is negative, it typically indicates that the model is performing worse than a model that simply predicts the mean of the target variable. This suggests that the model is not capturing any meaningful relationship between the independent variables and the target variable, and may be overfitting the data or suffering from other issues such as multicollinearity or incorrect model specification. Overall, a negative R-squared score is a strong indication of poor model performance and should prompt further investigation and potential revisions to the model.\n",
    "\n",
    "The R-squared value, also known as the coefficient of determination, typically ranges from 0 to 1.\n",
    "-An R-squared value of 0 indicates that the model does not explain any of the variability in the target variable.\n",
    "-An R-squared value of 1 indicates that the model perfectly explains all the variability in the target variable.\n",
    "\n",
    "Hence we can conclude that the multiple linear regression does not perfectly explain the data "
   ]
  },
  {
   "cell_type": "markdown",
   "id": "e39aaed5",
   "metadata": {},
   "source": []
  },
  {
   "cell_type": "code",
   "execution_count": null,
   "id": "38eeadad",
   "metadata": {},
   "outputs": [],
   "source": []
  }
 ],
 "metadata": {
  "kernelspec": {
   "display_name": "Python 3 (ipykernel)",
   "language": "python",
   "name": "python3"
  },
  "language_info": {
   "codemirror_mode": {
    "name": "ipython",
    "version": 3
   },
   "file_extension": ".py",
   "mimetype": "text/x-python",
   "name": "python",
   "nbconvert_exporter": "python",
   "pygments_lexer": "ipython3",
   "version": "3.8.18"
  }
 },
 "nbformat": 4,
 "nbformat_minor": 5
}
